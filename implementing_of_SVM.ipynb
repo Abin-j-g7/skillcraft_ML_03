{
  "nbformat": 4,
  "nbformat_minor": 0,
  "metadata": {
    "colab": {
      "provenance": [],
      "authorship_tag": "ABX9TyPG9RCMctGjjHq+7cNJ72mb",
      "include_colab_link": true
    },
    "kernelspec": {
      "name": "python3",
      "display_name": "Python 3"
    },
    "language_info": {
      "name": "python"
    }
  },
  "cells": [
    {
      "cell_type": "markdown",
      "metadata": {
        "id": "view-in-github",
        "colab_type": "text"
      },
      "source": [
        "<a href=\"https://colab.research.google.com/github/Abin-j-g7/skillcraft_ML_03/blob/main/implementing_of_SVM.ipynb\" target=\"_parent\"><img src=\"https://colab.research.google.com/assets/colab-badge.svg\" alt=\"Open In Colab\"/></a>"
      ]
    },
    {
      "cell_type": "code",
      "execution_count": 1,
      "metadata": {
        "colab": {
          "base_uri": "https://localhost:8080/",
          "height": 90
        },
        "id": "rcDZOb_6g7gb",
        "outputId": "bf62f35d-60dc-49c4-fab8-50f37ad5f89d"
      },
      "outputs": [
        {
          "output_type": "display_data",
          "data": {
            "text/plain": [
              "<IPython.core.display.HTML object>"
            ],
            "text/html": [
              "\n",
              "     <input type=\"file\" id=\"files-19148f9f-3ac6-4a54-8116-8325a01bc7a4\" name=\"files[]\" multiple disabled\n",
              "        style=\"border:none\" />\n",
              "     <output id=\"result-19148f9f-3ac6-4a54-8116-8325a01bc7a4\">\n",
              "      Upload widget is only available when the cell has been executed in the\n",
              "      current browser session. Please rerun this cell to enable.\n",
              "      </output>\n",
              "      <script>// Copyright 2017 Google LLC\n",
              "//\n",
              "// Licensed under the Apache License, Version 2.0 (the \"License\");\n",
              "// you may not use this file except in compliance with the License.\n",
              "// You may obtain a copy of the License at\n",
              "//\n",
              "//      http://www.apache.org/licenses/LICENSE-2.0\n",
              "//\n",
              "// Unless required by applicable law or agreed to in writing, software\n",
              "// distributed under the License is distributed on an \"AS IS\" BASIS,\n",
              "// WITHOUT WARRANTIES OR CONDITIONS OF ANY KIND, either express or implied.\n",
              "// See the License for the specific language governing permissions and\n",
              "// limitations under the License.\n",
              "\n",
              "/**\n",
              " * @fileoverview Helpers for google.colab Python module.\n",
              " */\n",
              "(function(scope) {\n",
              "function span(text, styleAttributes = {}) {\n",
              "  const element = document.createElement('span');\n",
              "  element.textContent = text;\n",
              "  for (const key of Object.keys(styleAttributes)) {\n",
              "    element.style[key] = styleAttributes[key];\n",
              "  }\n",
              "  return element;\n",
              "}\n",
              "\n",
              "// Max number of bytes which will be uploaded at a time.\n",
              "const MAX_PAYLOAD_SIZE = 100 * 1024;\n",
              "\n",
              "function _uploadFiles(inputId, outputId) {\n",
              "  const steps = uploadFilesStep(inputId, outputId);\n",
              "  const outputElement = document.getElementById(outputId);\n",
              "  // Cache steps on the outputElement to make it available for the next call\n",
              "  // to uploadFilesContinue from Python.\n",
              "  outputElement.steps = steps;\n",
              "\n",
              "  return _uploadFilesContinue(outputId);\n",
              "}\n",
              "\n",
              "// This is roughly an async generator (not supported in the browser yet),\n",
              "// where there are multiple asynchronous steps and the Python side is going\n",
              "// to poll for completion of each step.\n",
              "// This uses a Promise to block the python side on completion of each step,\n",
              "// then passes the result of the previous step as the input to the next step.\n",
              "function _uploadFilesContinue(outputId) {\n",
              "  const outputElement = document.getElementById(outputId);\n",
              "  const steps = outputElement.steps;\n",
              "\n",
              "  const next = steps.next(outputElement.lastPromiseValue);\n",
              "  return Promise.resolve(next.value.promise).then((value) => {\n",
              "    // Cache the last promise value to make it available to the next\n",
              "    // step of the generator.\n",
              "    outputElement.lastPromiseValue = value;\n",
              "    return next.value.response;\n",
              "  });\n",
              "}\n",
              "\n",
              "/**\n",
              " * Generator function which is called between each async step of the upload\n",
              " * process.\n",
              " * @param {string} inputId Element ID of the input file picker element.\n",
              " * @param {string} outputId Element ID of the output display.\n",
              " * @return {!Iterable<!Object>} Iterable of next steps.\n",
              " */\n",
              "function* uploadFilesStep(inputId, outputId) {\n",
              "  const inputElement = document.getElementById(inputId);\n",
              "  inputElement.disabled = false;\n",
              "\n",
              "  const outputElement = document.getElementById(outputId);\n",
              "  outputElement.innerHTML = '';\n",
              "\n",
              "  const pickedPromise = new Promise((resolve) => {\n",
              "    inputElement.addEventListener('change', (e) => {\n",
              "      resolve(e.target.files);\n",
              "    });\n",
              "  });\n",
              "\n",
              "  const cancel = document.createElement('button');\n",
              "  inputElement.parentElement.appendChild(cancel);\n",
              "  cancel.textContent = 'Cancel upload';\n",
              "  const cancelPromise = new Promise((resolve) => {\n",
              "    cancel.onclick = () => {\n",
              "      resolve(null);\n",
              "    };\n",
              "  });\n",
              "\n",
              "  // Wait for the user to pick the files.\n",
              "  const files = yield {\n",
              "    promise: Promise.race([pickedPromise, cancelPromise]),\n",
              "    response: {\n",
              "      action: 'starting',\n",
              "    }\n",
              "  };\n",
              "\n",
              "  cancel.remove();\n",
              "\n",
              "  // Disable the input element since further picks are not allowed.\n",
              "  inputElement.disabled = true;\n",
              "\n",
              "  if (!files) {\n",
              "    return {\n",
              "      response: {\n",
              "        action: 'complete',\n",
              "      }\n",
              "    };\n",
              "  }\n",
              "\n",
              "  for (const file of files) {\n",
              "    const li = document.createElement('li');\n",
              "    li.append(span(file.name, {fontWeight: 'bold'}));\n",
              "    li.append(span(\n",
              "        `(${file.type || 'n/a'}) - ${file.size} bytes, ` +\n",
              "        `last modified: ${\n",
              "            file.lastModifiedDate ? file.lastModifiedDate.toLocaleDateString() :\n",
              "                                    'n/a'} - `));\n",
              "    const percent = span('0% done');\n",
              "    li.appendChild(percent);\n",
              "\n",
              "    outputElement.appendChild(li);\n",
              "\n",
              "    const fileDataPromise = new Promise((resolve) => {\n",
              "      const reader = new FileReader();\n",
              "      reader.onload = (e) => {\n",
              "        resolve(e.target.result);\n",
              "      };\n",
              "      reader.readAsArrayBuffer(file);\n",
              "    });\n",
              "    // Wait for the data to be ready.\n",
              "    let fileData = yield {\n",
              "      promise: fileDataPromise,\n",
              "      response: {\n",
              "        action: 'continue',\n",
              "      }\n",
              "    };\n",
              "\n",
              "    // Use a chunked sending to avoid message size limits. See b/62115660.\n",
              "    let position = 0;\n",
              "    do {\n",
              "      const length = Math.min(fileData.byteLength - position, MAX_PAYLOAD_SIZE);\n",
              "      const chunk = new Uint8Array(fileData, position, length);\n",
              "      position += length;\n",
              "\n",
              "      const base64 = btoa(String.fromCharCode.apply(null, chunk));\n",
              "      yield {\n",
              "        response: {\n",
              "          action: 'append',\n",
              "          file: file.name,\n",
              "          data: base64,\n",
              "        },\n",
              "      };\n",
              "\n",
              "      let percentDone = fileData.byteLength === 0 ?\n",
              "          100 :\n",
              "          Math.round((position / fileData.byteLength) * 100);\n",
              "      percent.textContent = `${percentDone}% done`;\n",
              "\n",
              "    } while (position < fileData.byteLength);\n",
              "  }\n",
              "\n",
              "  // All done.\n",
              "  yield {\n",
              "    response: {\n",
              "      action: 'complete',\n",
              "    }\n",
              "  };\n",
              "}\n",
              "\n",
              "scope.google = scope.google || {};\n",
              "scope.google.colab = scope.google.colab || {};\n",
              "scope.google.colab._files = {\n",
              "  _uploadFiles,\n",
              "  _uploadFilesContinue,\n",
              "};\n",
              "})(self);\n",
              "</script> "
            ]
          },
          "metadata": {}
        },
        {
          "output_type": "stream",
          "name": "stdout",
          "text": [
            "Saving kaggle.json to kaggle.json\n"
          ]
        },
        {
          "output_type": "execute_result",
          "data": {
            "text/plain": [
              "{'kaggle.json': b'{\"username\":\"abinj10\",\"key\":\"f9b644d7d7a5f09adab28c66039567b3\"}'}"
            ]
          },
          "metadata": {},
          "execution_count": 1
        }
      ],
      "source": [
        "from google.colab import files\n",
        "files.upload()"
      ]
    },
    {
      "cell_type": "code",
      "source": [
        "import os\n",
        "os.makedirs(\"/root/.kaggle\", exist_ok=True)\n",
        "!mv kaggle.json /root/.kaggle/\n",
        "!chmod 600 /root/.kaggle/kaggle.json\n"
      ],
      "metadata": {
        "id": "HyJOgKbrlk11"
      },
      "execution_count": 2,
      "outputs": []
    },
    {
      "cell_type": "code",
      "source": [
        "!pip install kaggle\n"
      ],
      "metadata": {
        "colab": {
          "base_uri": "https://localhost:8080/"
        },
        "id": "FQzgvBYploMr",
        "outputId": "ee881cae-a783-46bb-c030-d83b2716492c"
      },
      "execution_count": 3,
      "outputs": [
        {
          "output_type": "stream",
          "name": "stdout",
          "text": [
            "Requirement already satisfied: kaggle in /usr/local/lib/python3.12/dist-packages (1.7.4.5)\n",
            "Requirement already satisfied: bleach in /usr/local/lib/python3.12/dist-packages (from kaggle) (6.2.0)\n",
            "Requirement already satisfied: certifi>=14.05.14 in /usr/local/lib/python3.12/dist-packages (from kaggle) (2025.8.3)\n",
            "Requirement already satisfied: charset-normalizer in /usr/local/lib/python3.12/dist-packages (from kaggle) (3.4.3)\n",
            "Requirement already satisfied: idna in /usr/local/lib/python3.12/dist-packages (from kaggle) (3.10)\n",
            "Requirement already satisfied: protobuf in /usr/local/lib/python3.12/dist-packages (from kaggle) (5.29.5)\n",
            "Requirement already satisfied: python-dateutil>=2.5.3 in /usr/local/lib/python3.12/dist-packages (from kaggle) (2.9.0.post0)\n",
            "Requirement already satisfied: python-slugify in /usr/local/lib/python3.12/dist-packages (from kaggle) (8.0.4)\n",
            "Requirement already satisfied: requests in /usr/local/lib/python3.12/dist-packages (from kaggle) (2.32.4)\n",
            "Requirement already satisfied: setuptools>=21.0.0 in /usr/local/lib/python3.12/dist-packages (from kaggle) (75.2.0)\n",
            "Requirement already satisfied: six>=1.10 in /usr/local/lib/python3.12/dist-packages (from kaggle) (1.17.0)\n",
            "Requirement already satisfied: text-unidecode in /usr/local/lib/python3.12/dist-packages (from kaggle) (1.3)\n",
            "Requirement already satisfied: tqdm in /usr/local/lib/python3.12/dist-packages (from kaggle) (4.67.1)\n",
            "Requirement already satisfied: urllib3>=1.15.1 in /usr/local/lib/python3.12/dist-packages (from kaggle) (2.5.0)\n",
            "Requirement already satisfied: webencodings in /usr/local/lib/python3.12/dist-packages (from kaggle) (0.5.1)\n"
          ]
        }
      ]
    },
    {
      "cell_type": "code",
      "source": [
        "!kaggle competitions download -c dogs-vs-cats\n"
      ],
      "metadata": {
        "colab": {
          "base_uri": "https://localhost:8080/"
        },
        "id": "14ReY5fplsZ5",
        "outputId": "54f452a1-c161-4fe8-a93c-627aa7c13380"
      },
      "execution_count": 4,
      "outputs": [
        {
          "output_type": "stream",
          "name": "stdout",
          "text": [
            "Downloading dogs-vs-cats.zip to /content\n",
            " 95% 775M/812M [00:03<00:00, 157MB/s]\n",
            "100% 812M/812M [00:05<00:00, 170MB/s]\n"
          ]
        }
      ]
    },
    {
      "cell_type": "code",
      "source": [
        "!kaggle datasets download -d <Kaggle · Playground Prediction Competition>/<Dogs vs. Cats>\n"
      ],
      "metadata": {
        "colab": {
          "base_uri": "https://localhost:8080/"
        },
        "id": "-EizzFHsmgkq",
        "outputId": "1a0b0826-41ab-4a10-8e97-3de45fc2a1b1"
      },
      "execution_count": 5,
      "outputs": [
        {
          "output_type": "stream",
          "name": "stdout",
          "text": [
            "/bin/bash: -c: line 1: syntax error near unexpected token `newline'\n",
            "/bin/bash: -c: line 1: `kaggle datasets download -d <Kaggle · Playground Prediction Competition>/<Dogs vs. Cats>'\n"
          ]
        }
      ]
    },
    {
      "cell_type": "code",
      "source": [
        "!unzip dogs-vs-cats.zip -d dataset\n"
      ],
      "metadata": {
        "colab": {
          "base_uri": "https://localhost:8080/"
        },
        "id": "zH5TcaQ8m5LO",
        "outputId": "7dcbb0e3-e979-49d6-93b8-9b322f803072"
      },
      "execution_count": 6,
      "outputs": [
        {
          "output_type": "stream",
          "name": "stdout",
          "text": [
            "Archive:  dogs-vs-cats.zip\n",
            "  inflating: dataset/sampleSubmission.csv  \n",
            "  inflating: dataset/test1.zip       \n",
            "  inflating: dataset/train.zip       \n"
          ]
        }
      ]
    },
    {
      "cell_type": "code",
      "source": [
        "import os\n",
        "print(os.listdir(\"dataset\"))\n"
      ],
      "metadata": {
        "colab": {
          "base_uri": "https://localhost:8080/"
        },
        "id": "7C8YDNY2m_kX",
        "outputId": "c000e4d0-39f7-4bdb-d099-a8b866640111"
      },
      "execution_count": 7,
      "outputs": [
        {
          "output_type": "stream",
          "name": "stdout",
          "text": [
            "['train.zip', 'sampleSubmission.csv', 'test1.zip']\n"
          ]
        }
      ]
    },
    {
      "cell_type": "code",
      "source": [
        "import zipfile\n",
        "import os\n",
        "\n",
        "# Unzip train.zip\n",
        "with zipfile.ZipFile(\"dataset/train.zip\", \"r\") as zip_ref:\n",
        "    zip_ref.extractall(\"dataset/train\")\n",
        "\n",
        "# Unzip test1.zip\n",
        "with zipfile.ZipFile(\"dataset/test1.zip\", \"r\") as zip_ref:\n",
        "    zip_ref.extractall(\"dataset/test\")\n",
        "\n",
        "print(\"Train files:\", len(os.listdir(\"dataset/train\")))\n",
        "print(\"Test files:\", len(os.listdir(\"dataset/test\")))\n"
      ],
      "metadata": {
        "colab": {
          "base_uri": "https://localhost:8080/"
        },
        "id": "XOdKXODqnQ9B",
        "outputId": "10c3a27e-4e4a-43b0-d02e-799820cf0313"
      },
      "execution_count": 8,
      "outputs": [
        {
          "output_type": "stream",
          "name": "stdout",
          "text": [
            "Train files: 1\n",
            "Test files: 1\n"
          ]
        }
      ]
    },
    {
      "cell_type": "code",
      "source": [
        "import os, shutil, random\n",
        "\n",
        "# Paths after unzipping\n",
        "original_train_dir = \"dataset/train/train\"   # contains 25,000 cat/dog images\n",
        "original_test_dir  = \"dataset/test/test1\"    # contains 12,500 test images\n",
        "\n",
        "# Small dataset structure\n",
        "base_dir = \"dataset/cats_and_dogs_small\"\n",
        "train_dir = os.path.join(base_dir, \"train\")\n",
        "val_dir   = os.path.join(base_dir, \"validation\")\n",
        "test_dir  = os.path.join(base_dir, \"test\")\n",
        "\n",
        "# Create directories\n",
        "for d in [train_dir, val_dir, test_dir]:\n",
        "    for cls in [\"cats\", \"dogs\"]:\n",
        "        os.makedirs(os.path.join(d, cls), exist_ok=True)\n",
        "\n",
        "# Get all train filenames\n",
        "filenames = os.listdir(original_train_dir)\n",
        "\n",
        "cats = [f for f in filenames if f.startswith(\"cat\")]\n",
        "dogs = [f for f in filenames if f.startswith(\"dog\")]\n",
        "\n",
        "random.shuffle(cats)\n",
        "random.shuffle(dogs)\n",
        "\n",
        "# Split: 10,000 train / 2,500 validation each\n",
        "train_cats = cats[:10000]\n",
        "val_cats   = cats[10000:12500]\n",
        "\n",
        "train_dogs = dogs[:10000]\n",
        "val_dogs   = dogs[10000:12500]\n",
        "\n",
        "# Copy training cats\n",
        "for fname in train_cats:\n",
        "    shutil.copy(os.path.join(original_train_dir, fname),\n",
        "                os.path.join(train_dir, \"cats\", fname))\n",
        "\n",
        "# Copy validation cats\n",
        "for fname in val_cats:\n",
        "    shutil.copy(os.path.join(original_train_dir, fname),\n",
        "                os.path.join(val_dir, \"cats\", fname))\n",
        "\n",
        "# Copy training dogs\n",
        "for fname in train_dogs:\n",
        "    shutil.copy(os.path.join(original_train_dir, fname),\n",
        "                os.path.join(train_dir, \"dogs\", fname))\n",
        "\n",
        "# Copy validation dogs\n",
        "for fname in val_dogs:\n",
        "    shutil.copy(os.path.join(original_train_dir, fname),\n",
        "                os.path.join(val_dir, \"dogs\", fname))\n",
        "\n",
        "# Prepare test set (using 2500 each from test1 folder)\n",
        "test_filenames = os.listdir(original_test_dir)\n",
        "test_cats = test_filenames[:2500]\n",
        "test_dogs = test_filenames[2500:5000]\n",
        "\n",
        "for fname in test_cats:\n",
        "    shutil.copy(os.path.join(original_test_dir, fname),\n",
        "                os.path.join(test_dir, \"cats\", fname))\n",
        "\n",
        "for fname in test_dogs:\n",
        "    shutil.copy(os.path.join(original_test_dir, fname),\n",
        "                os.path.join(test_dir, \"dogs\", fname))\n",
        "\n",
        "# Verify counts\n",
        "print(\"Training cats:\", len(os.listdir(os.path.join(train_dir, \"cats\"))))\n",
        "print(\"Validation cats:\", len(os.listdir(os.path.join(val_dir, \"cats\"))))\n",
        "print(\"Test cats:\", len(os.listdir(os.path.join(test_dir, \"cats\"))))\n",
        "print(\"Training dogs:\", len(os.listdir(os.path.join(train_dir, \"dogs\"))))\n",
        "print(\"Validation dogs:\", len(os.listdir(os.path.join(val_dir, \"dogs\"))))\n",
        "print(\"Test dogs:\", len(os.listdir(os.path.join(test_dir, \"dogs\"))))\n"
      ],
      "metadata": {
        "colab": {
          "base_uri": "https://localhost:8080/"
        },
        "id": "fyOJ0zSZnokj",
        "outputId": "3af5b51b-784e-4149-a94a-f8fd35686977"
      },
      "execution_count": 12,
      "outputs": [
        {
          "output_type": "stream",
          "name": "stdout",
          "text": [
            "Training cats: 10000\n",
            "Validation cats: 2500\n",
            "Test cats: 2500\n",
            "Training dogs: 10000\n",
            "Validation dogs: 2500\n",
            "Test dogs: 2500\n"
          ]
        }
      ]
    },
    {
      "cell_type": "code",
      "source": [
        "import os\n",
        "import numpy as np\n",
        "from tqdm import tqdm\n",
        "from sklearn.decomposition import PCA\n",
        "from sklearn.svm import SVC\n",
        "from sklearn.metrics import accuracy_score, confusion_matrix, classification_report\n",
        "from tensorflow.keras.preprocessing.image import load_img, img_to_array\n",
        "\n",
        "# -----------------------\n",
        "# 1. Dataset Paths\n",
        "# -----------------------\n",
        "train_cat_dir = \"dataset/cats_and_dogs_small/train/cats\"\n",
        "train_dog_dir = \"dataset/cats_and_dogs_small/train/dogs\"\n",
        "val_cat_dir   = \"dataset/cats_and_dogs_small/validation/cats\"\n",
        "val_dog_dir   = \"dataset/cats_and_dogs_small/validation/dogs\"\n",
        "test_cat_dir  = \"dataset/cats_and_dogs_small/test/cats\"\n",
        "test_dog_dir  = \"dataset/cats_and_dogs_small/test/dogs\"\n",
        "\n",
        "# -----------------------\n",
        "# 2. Helper to Load Images\n",
        "# -----------------------\n",
        "def load_images_from_folder(folder, label, target_size=(64,64)):\n",
        "    images, labels = [], []\n",
        "    for filename in tqdm(os.listdir(folder), desc=f\"Loading {os.path.basename(folder)}\"):\n",
        "        img_path = os.path.join(folder, filename)\n",
        "        img = load_img(img_path, target_size=target_size)\n",
        "        img_array = img_to_array(img) / 255.0\n",
        "        images.append(img_array.flatten())\n",
        "        labels.append(label)\n",
        "    return np.array(images), np.array(labels)\n",
        "\n",
        "# -----------------------\n",
        "# 3. Load Train/Val/Test\n",
        "# -----------------------\n",
        "X_train_cats, y_train_cats = load_images_from_folder(train_cat_dir, 0)\n",
        "X_train_dogs, y_train_dogs = load_images_from_folder(train_dog_dir, 1)\n",
        "X_val_cats, y_val_cats     = load_images_from_folder(val_cat_dir, 0)\n",
        "X_val_dogs, y_val_dogs     = load_images_from_folder(val_dog_dir, 1)\n",
        "X_test_cats, y_test_cats   = load_images_from_folder(test_cat_dir, 0)\n",
        "X_test_dogs, y_test_dogs   = load_images_from_folder(test_dog_dir, 1)\n",
        "\n",
        "X_train = np.vstack((X_train_cats, X_train_dogs))\n",
        "y_train = np.concatenate((y_train_cats, y_train_dogs))\n",
        "X_val   = np.vstack((X_val_cats, X_val_dogs))\n",
        "y_val   = np.concatenate((y_val_cats, y_val_dogs))\n",
        "X_test  = np.vstack((X_test_cats, X_test_dogs))\n",
        "y_test  = np.concatenate((y_test_cats, y_test_dogs))\n",
        "\n",
        "print(\"Shapes:\")\n",
        "print(\"Train:\", X_train.shape, y_train.shape)\n",
        "print(\"Validation:\", X_val.shape, y_val.shape)\n",
        "print(\"Test:\", X_test.shape, y_test.shape)\n",
        "\n",
        "# -----------------------\n",
        "# 4. PCA for Dim Reduction\n",
        "# -----------------------\n",
        "pca = PCA(n_components=300, random_state=42)\n",
        "X_train_pca = pca.fit_transform(X_train)\n",
        "X_val_pca   = pca.transform(X_val)\n",
        "X_test_pca  = pca.transform(X_test)\n",
        "\n",
        "print(\"After PCA:\")\n",
        "print(\"Train:\", X_train_pca.shape)\n",
        "print(\"Validation:\", X_val_pca.shape)\n",
        "print(\"Test:\", X_test_pca.shape)\n",
        "\n",
        "# -----------------------\n",
        "# 5. Train SVM\n",
        "# -----------------------\n",
        "print(\"\\nTraining SVM...\")\n",
        "svm = SVC(kernel='rbf', C=10, gamma=0.01)\n",
        "svm.fit(X_train_pca, y_train)\n",
        "\n",
        "# -----------------------\n",
        "# 6. Evaluate\n",
        "# -----------------------\n",
        "y_val_pred = svm.predict(X_val_pca)\n",
        "y_test_pred = svm.predict(X_test_pca)\n",
        "\n",
        "print(\"\\nValidation Accuracy:\", accuracy_score(y_val, y_val_pred))\n",
        "print(\"Test Accuracy:\", accuracy_score(y_test, y_test_pred))\n",
        "\n",
        "print(\"\\nClassification Report (Test):\")\n",
        "print(classification_report(y_test, y_test_pred, target_names=[\"Cat\", \"Dog\"]))\n",
        "\n",
        "print(\"\\nConfusion Matrix (Test):\")\n",
        "print(confusion_matrix(y_test, y_test_pred))\n"
      ],
      "metadata": {
        "colab": {
          "base_uri": "https://localhost:8080/"
        },
        "id": "sSNV1VjBnzgP",
        "outputId": "af837a49-3902-4bd9-a54c-e41cbc844090"
      },
      "execution_count": 1,
      "outputs": [
        {
          "output_type": "stream",
          "name": "stderr",
          "text": [
            "Loading cats: 100%|██████████| 10000/10000 [00:14<00:00, 710.65it/s]\n",
            "Loading dogs: 100%|██████████| 10000/10000 [00:13<00:00, 751.86it/s]\n",
            "Loading cats: 100%|██████████| 2500/2500 [00:03<00:00, 675.58it/s]\n",
            "Loading dogs: 100%|██████████| 2500/2500 [00:03<00:00, 821.06it/s]\n",
            "Loading cats: 100%|██████████| 2500/2500 [00:02<00:00, 864.15it/s]\n",
            "Loading dogs: 100%|██████████| 2500/2500 [00:02<00:00, 850.00it/s]\n"
          ]
        },
        {
          "output_type": "stream",
          "name": "stdout",
          "text": [
            "Shapes:\n",
            "Train: (20000, 12288) (20000,)\n",
            "Validation: (5000, 12288) (5000,)\n",
            "Test: (5000, 12288) (5000,)\n",
            "After PCA:\n",
            "Train: (20000, 300)\n",
            "Validation: (5000, 300)\n",
            "Test: (5000, 300)\n",
            "\n",
            "Training SVM...\n",
            "\n",
            "Validation Accuracy: 0.6254\n",
            "Test Accuracy: 0.5\n",
            "\n",
            "Classification Report (Test):\n",
            "              precision    recall  f1-score   support\n",
            "\n",
            "         Cat       0.50      0.66      0.57      2500\n",
            "         Dog       0.50      0.34      0.40      2500\n",
            "\n",
            "    accuracy                           0.50      5000\n",
            "   macro avg       0.50      0.50      0.49      5000\n",
            "weighted avg       0.50      0.50      0.49      5000\n",
            "\n",
            "\n",
            "Confusion Matrix (Test):\n",
            "[[1655  845]\n",
            " [1655  845]]\n"
          ]
        }
      ]
    }
  ]
}